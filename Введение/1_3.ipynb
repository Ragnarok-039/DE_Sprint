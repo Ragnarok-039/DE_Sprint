{
 "cells": [
  {
   "cell_type": "code",
   "execution_count": 2,
   "id": "5eafa0c1",
   "metadata": {
    "scrolled": false
   },
   "outputs": [],
   "source": [
    "# 1\n",
    "\n",
    "import requests\n",
    "import time\n",
    "import json\n",
    "\n",
    "param = {'text': 'python разработчик', 'per_page': 100, 'page': 0}\n",
    "url = 'https://api.hh.ru/vacancies'\n",
    "db = requests.get(url, params=param).json()\n",
    "my_file = 'vacancies.json'\n",
    "\n",
    "for i in range(db['pages'] + 1):\n",
    "    param = {'text': 'python разработчик', 'per_page': 100, 'page': i}\n",
    "    url = 'https://api.hh.ru/vacancies'\n",
    "    data = {'data': []}\n",
    "    time.sleep(2)\n",
    "\n",
    "    for now in db['items']:\n",
    "        name_vacancy = now['name']\n",
    "        try:\n",
    "            exp = now['experience']\n",
    "        except:\n",
    "            exp = 'unknown'\n",
    "        try:\n",
    "            salary = f\"{now['salary']['from']} - {now['salary']['to']}\"\n",
    "        except:\n",
    "            salary = now['salary']\n",
    "        name_city = now['area']['name']\n",
    "        data['data'].append({'title': name_vacancy, 'work_experience': exp, 'salary': salary, 'region': name_city})\n",
    "#         print(name_vacancy, '/', salary, '/', name_city, '/', exp)\n",
    "#         print(exp.split('.')[0], type(exp))\n",
    "    \n",
    "    with open(my_file, 'w') as file:\n",
    "        json.dump(data, file, ensure_ascii=False)\n"
   ]
  },
  {
   "cell_type": "code",
   "execution_count": 88,
   "id": "c1efa8a3",
   "metadata": {},
   "outputs": [
    {
     "name": "stdout",
     "output_type": "stream",
     "text": [
      "black cat\n",
      "False\n"
     ]
    }
   ],
   "source": [
    "# 2\n",
    "\n",
    "my_str = input()\n",
    "my_str = my_str.replace(' ', '')\n",
    "\n",
    "print(True if my_str == my_str[::-1] else False)\n"
   ]
  },
  {
   "cell_type": "code",
   "execution_count": 92,
   "id": "6673e561",
   "metadata": {},
   "outputs": [
    {
     "name": "stdout",
     "output_type": "stream",
     "text": [
      "2569\n",
      "MMDLXIX\n"
     ]
    }
   ],
   "source": [
    "# 3\n",
    "\n",
    "\n",
    "def decToRoman(num):\n",
    "    num = int(num)\n",
    "    if num <= 0 or num >= 4000 or not num:\n",
    "        return 'Input should be an integer between 1 and 3999'\n",
    "    coding = zip(\n",
    "    [1000, 900, 500, 400, 100, 90, 50, 40, 10, 9, 5, 4, 1],\n",
    "    [\"M\", \"CM\", \"D\", \"CD\", \"C\", \"XC\", \"L\", \"XL\", \"X\", \"IX\", \"V\", \"IV\", \"I\"]\n",
    ")\n",
    "    result = []\n",
    "    for d, r in coding:\n",
    "        while num >= d:\n",
    "            result.append(r)\n",
    "            num -= d\n",
    "    return ''.join(result)\n",
    "\n",
    "\n",
    "temp = input()\n",
    "\n",
    "print(decToRoman(temp))\n"
   ]
  },
  {
   "cell_type": "code",
   "execution_count": 106,
   "id": "30d2a3ac",
   "metadata": {},
   "outputs": [
    {
     "name": "stdout",
     "output_type": "stream",
     "text": [
      "[{}({})]\n",
      "True\n"
     ]
    }
   ],
   "source": [
    "# 4\n",
    "\n",
    "my_str = input()\n",
    "a_1, a_2 = '(', ')'\n",
    "b_1, b_2 = '{', '}'\n",
    "c_1, c_2 = '[', ']'\n",
    "my_l = []\n",
    "\n",
    "if a_1 in my_str or a_2 in my_str:\n",
    "    my_l.append(True) if my_str.count(a_1) == my_str.count(a_2) else my_l.append(False)\n",
    "if b_1 in my_str or b_2 in my_str:\n",
    "    my_l.append(True) if my_str.count(b_1) == my_str.count(b_2) else my_l.append(False)\n",
    "if c_1 in my_str or c_2 in my_str:\n",
    "    my_l.append(True) if my_str.count(c_1) == my_str.count(c_2) else my_l.append(False)\n",
    "\n",
    "if all(my_l):\n",
    "    print(True)\n",
    "else:\n",
    "    print(False)\n"
   ]
  },
  {
   "cell_type": "code",
   "execution_count": 12,
   "id": "6d816b0f",
   "metadata": {},
   "outputs": [
    {
     "name": "stdout",
     "output_type": "stream",
     "text": [
      "111\n",
      "101\n",
      "100011\n"
     ]
    }
   ],
   "source": [
    "# 5\n",
    "\n",
    "a, b = input(), input()\n",
    "\n",
    "ans = int(f'0b{a}', 2) * int(f'0b{b}', 2)\n",
    "\n",
    "print(bin(ans)[2:])\n"
   ]
  },
  {
   "cell_type": "code",
   "execution_count": null,
   "id": "49298074",
   "metadata": {},
   "outputs": [],
   "source": []
  }
 ],
 "metadata": {
  "kernelspec": {
   "display_name": "Python 3 (ipykernel)",
   "language": "python",
   "name": "python3"
  },
  "language_info": {
   "codemirror_mode": {
    "name": "ipython",
    "version": 3
   },
   "file_extension": ".py",
   "mimetype": "text/x-python",
   "name": "python",
   "nbconvert_exporter": "python",
   "pygments_lexer": "ipython3",
   "version": "3.9.12"
  }
 },
 "nbformat": 4,
 "nbformat_minor": 5
}
