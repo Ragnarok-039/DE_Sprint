{
 "cells": [
  {
   "cell_type": "code",
   "execution_count": 67,
   "id": "afd7767e",
   "metadata": {
    "scrolled": false
   },
   "outputs": [
    {
     "name": "stdout",
     "output_type": "stream",
     "text": [
      "         max_salary\n",
      "count  1.000000e+02\n",
      "mean   4.770920e+05\n",
      "std    3.593282e+06\n",
      "min    0.000000e+00\n",
      "25%    0.000000e+00\n",
      "50%    6.000000e+04\n",
      "75%    2.000000e+05\n",
      "max    3.600000e+07\n",
      "477092.0\n",
      "36000000\n",
      "0\n",
      "0      600000\n",
      "1     1500000\n",
      "2      500000\n",
      "3       60000\n",
      "4      170000\n",
      "       ...   \n",
      "95          0\n",
      "96          0\n",
      "97      60000\n",
      "98          0\n",
      "99          0\n",
      "Name: max_salary, Length: 100, dtype: int64\n",
      "                   max_salary\n",
      "region                       \n",
      "Алматы           2.000000e+03\n",
      "Армения          5.000000e+03\n",
      "Астана           4.262500e+05\n",
      "Бишкек           8.500000e+04\n",
      "Болгария         5.700000e+03\n",
      "Екатеринбург     1.633333e+05\n",
      "Иркутск          0.000000e+00\n",
      "Казань           9.000000e+04\n",
      "Калининград      2.000000e+05\n",
      "Латвия           5.000000e+03\n",
      "Москва           1.205543e+05\n",
      "Нижний Новгород  0.000000e+00\n",
      "Новокузнецк      0.000000e+00\n",
      "Новосибирск      8.666667e+04\n",
      "Ростов-на-Дону   4.000000e+04\n",
      "Самара           2.000000e+05\n",
      "Санкт-Петербург  1.425000e+05\n",
      "Севастополь      0.000000e+00\n",
      "Симферополь      0.000000e+00\n",
      "Ташкент          1.200133e+07\n",
      "Тбилиси          5.000000e+03\n",
      "Томск            1.500000e+05\n",
      "Тула             0.000000e+00\n",
      "Тюмень           1.500000e+05\n"
     ]
    }
   ],
   "source": [
    "import pandas as pd\n",
    "import json\n",
    "\n",
    "\n",
    "def salary(my_s):\n",
    "    my_s = [i.strip() for i in str(my_s).split('-')]\n",
    "    while 'None' in my_s:\n",
    "        my_s.remove('None')\n",
    "    if len(my_s) == 0:\n",
    "        return 0\n",
    "    elif len(my_s) == 1:\n",
    "        return int(my_s[0])\n",
    "    else:\n",
    "        if int(my_s[0]) >= int(my_s[1]):\n",
    "            return int(my_s[0])\n",
    "        else:\n",
    "            return int(my_s[1])\n",
    "\n",
    "\n",
    "with open('vacancies.json') as file:\n",
    "    data = json.load(file)\n",
    "\n",
    "df = pd.json_normalize(data, record_path='data')\n",
    "\n",
    "df['max_salary'] = df['salary'].apply(salary)\n",
    "\n",
    "# print(df.head(60))\n",
    "print(df.describe())\n",
    "print(round(df['max_salary'].mean(), 1))\n",
    "print(df['max_salary'].max())\n",
    "print(df['max_salary'].min())\n",
    "\n",
    "print(df['max_salary'])\n",
    "print(df.groupby('region').mean())\n"
   ]
  },
  {
   "cell_type": "code",
   "execution_count": null,
   "id": "15c2d3b6",
   "metadata": {},
   "outputs": [],
   "source": []
  }
 ],
 "metadata": {
  "kernelspec": {
   "display_name": "Python 3 (ipykernel)",
   "language": "python",
   "name": "python3"
  },
  "language_info": {
   "codemirror_mode": {
    "name": "ipython",
    "version": 3
   },
   "file_extension": ".py",
   "mimetype": "text/x-python",
   "name": "python",
   "nbconvert_exporter": "python",
   "pygments_lexer": "ipython3",
   "version": "3.9.12"
  }
 },
 "nbformat": 4,
 "nbformat_minor": 5
}
